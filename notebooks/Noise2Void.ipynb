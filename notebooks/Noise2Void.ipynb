{
 "metadata": {
  "language_info": {
   "codemirror_mode": {
    "name": "ipython",
    "version": 3
   },
   "file_extension": ".py",
   "mimetype": "text/x-python",
   "name": "python",
   "nbconvert_exporter": "python",
   "pygments_lexer": "ipython3",
   "version": "3.7.10"
  },
  "orig_nbformat": 2,
  "kernelspec": {
   "name": "python3710jvsc74a57bd048517f11722045a744e97573c00295bf2a89786ab8c6ccbc15dbecb8c86d6621",
   "display_name": "Python 3.7.10 64-bit ('py37': conda)"
  }
 },
 "nbformat": 4,
 "nbformat_minor": 2,
 "cells": [
  {
   "cell_type": "code",
   "execution_count": 1,
   "metadata": {},
   "outputs": [],
   "source": [
    "# Notebook_version = '1.12'"
   ]
  },
  {
   "cell_type": "code",
   "execution_count": 3,
   "metadata": {},
   "outputs": [],
   "source": [
    "import dl4mic\n",
    "import dl4mic.models as models"
   ]
  },
  {
   "cell_type": "code",
   "execution_count": null,
   "metadata": {},
   "outputs": [],
   "source": [
    "\n",
    "model_config = {\n",
    "            \"model\":None,\n",
    "            \"X_train\": None,\n",
    "            \"X_test\": None,\n",
    "            \"model_name\":None,\n",
    "            \"model_path\":None,\n",
    "            # \"ref_str\"=,\n",
    "            \"Notebook_version\":1.12,\n",
    "            \"initial_learning_rate\":0.0004,\n",
    "            \"number_of_steps\":100,\n",
    "            \"percentage_validation\":10,\n",
    "            # \"image_patches\"=,\n",
    "            # \"loss_function\"=,\n",
    "            \"batch_size\":128,\n",
    "            \"patch_size\":64,\n",
    "            \"Training_source\":None,\n",
    "            \"number_of_epochs\":100,\n",
    "            \"Use_Default_Advanced_Parameters\":False,\n",
    "            \"Use_Data_augmentation\":True,\n",
    "            \"trained\":False,\n",
    "            \"augmentation\":False,\n",
    "            \"pretrained_model\":False,\n",
    "            \"pretrained_model_choice\":\"Model_from_file\"}\n",
    "\n",
    "dl4mic_model = models.N2V(model_config)\n"
   ]
  },
  {
   "cell_type": "code",
   "execution_count": null,
   "metadata": {},
   "outputs": [],
   "source": [
    "%load_ext memory_profiler"
   ]
  },
  {
   "cell_type": "code",
   "execution_count": null,
   "metadata": {},
   "outputs": [],
   "source": [
    "!pip install n2v\n",
    "# ------- Variable specific to N2V -------\n",
    "from n2v.models import N2VConfig, N2V\n",
    "from csbdeep.utils import plot_history\n",
    "from n2v.utils.n2v_utils import manipulate_val_data\n",
    "from n2v.internals.N2V_DataGenerator import N2V_DataGenerator\n",
    "from csbdeep.io import save_tiff_imagej_compatible\n",
    "\n",
    "datagen = N2V_DataGenerator()\n",
    "training_images = Training_source \n",
    "imgs = datagen.load_imgs_from_directory(directory = Training_source)\n",
    "\n",
    "dl4mic_model.data_checks()\n"
   ]
  },
  {
   "cell_type": "code",
   "execution_count": null,
   "metadata": {},
   "outputs": [],
   "source": [
    "# model_config = model.append_config(\n",
    "#     {}\n",
    "#     )"
   ]
  },
  {
   "cell_type": "code",
   "execution_count": null,
   "metadata": {},
   "outputs": [],
   "source": [
    "#Training\n",
    "dl4mic_model.get_config[\"Use_Data_augmentation\"]\n",
    "Xdata = datagen.generate_patches_from_list(imgs, shape=(patch_size,patch_size), augment=model.get_config[\"Use_Data_augmentation\"])\n",
    "dl4mic_model.append_config(\n",
    "    {\"image_patches\"=Xdata.shape[0]\n",
    "    \"loss_function\"=config.train_loss}\n",
    "    )\n",
    "\n",
    "\n",
    "threshold = int(shape_of_Xdata[0]*(percentage_validation/100))\n",
    "# split the patches into training patches and validation patches\n",
    "X = Xdata[threshold:]\n",
    "X_val = Xdata[:threshold]"
   ]
  },
  {
   "cell_type": "code",
   "execution_count": null,
   "metadata": {},
   "outputs": [],
   "source": [
    "config = N2VConfig(X,\n",
    "                unet_kern_size=3,\n",
    "                train_steps_per_epoch=dl4mic_model[\"number_of_steps\"],\n",
    "                train_epochs=dl4mic_model[\"number_of_epochs\"]\n",
    "                train_loss='mse',\n",
    "                batch_norm=True,\n",
    "                train_batch_size=dl4mic_model[\"batch_size\"],n2v_perc_pix=0.198,\n",
    "                n2v_manipulator='uniform_withCP',\n",
    "                n2v_neighborhood_radius=5,  \n",
    "                train_learning_rate=initial_learning_rate)\n",
    "model = N2V(config=config, name=dl4mic_model[\"model_name\"], basedir=dl4mic_model[\"model_path\"])\n",
    "\n",
    "if dl4mic_model[\"Use_pretrained_model\"]:\n",
    "  model.load_weights(dl4mic_model[\"h5_file_path\"])\n"
   ]
  },
  {
   "cell_type": "code",
   "execution_count": null,
   "metadata": {},
   "outputs": [],
   "source": [
    "# Begin training\n",
    "start = time.time()\n",
    "\n",
    "history = model.train(X, X_val)\n",
    "\n",
    "print(\"Training done.\")\n"
   ]
  }
 ]
}