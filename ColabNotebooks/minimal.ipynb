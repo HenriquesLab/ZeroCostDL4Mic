{
 "metadata": {
  "language_info": {
   "codemirror_mode": {
    "name": "ipython",
    "version": 3
   },
   "file_extension": ".py",
   "mimetype": "text/x-python",
   "name": "python",
   "nbconvert_exporter": "python",
   "pygments_lexer": "ipython3",
   "version": "3.7.10-final"
  },
  "orig_nbformat": 2,
  "kernelspec": {
   "name": "python3",
   "display_name": "Python 3.7.10 64-bit ('tf': conda)",
   "metadata": {
    "interpreter": {
     "hash": "01a8c3e581587ef845b14c27476cc2daada005a8e900d0cc550301b789c363ba"
    }
   }
  }
 },
 "nbformat": 4,
 "nbformat_minor": 2,
 "cells": [
  {
   "cell_type": "code",
   "execution_count": null,
   "metadata": {},
   "outputs": [],
   "source": [
    "#@markdown ##Run this cell to check if you have GPU access\n",
    "# %tensorflow_version 1.x\n",
    "\n",
    "import tensorflow as tf\n",
    "if tf.test.gpu_device_name()=='':\n",
    "  print('You do not have GPU access.') \n",
    "  print('Did you change your runtime ?') \n",
    "  print('If the runtime setting is correct then Google did not allocate a GPU for your session')\n",
    "  print('Expect slow performance. To access GPU try reconnecting later')\n",
    "\n",
    "else:\n",
    "  print('You have GPU access')\n",
    "  !nvidia-smi"
   ]
  },
  {
   "cell_type": "code",
   "execution_count": null,
   "metadata": {},
   "outputs": [],
   "source": [
    "Notebook_version = ['1.12']\n",
    "import tensorflow\n",
    "# ------- Variable specific to N2V -------\n",
    "from n2v.models import N2VConfig, N2V\n",
    "from csbdeep.utils import plot_history\n",
    "from n2v.utils.n2v_utils import manipulate_val_data\n",
    "from n2v.internals.N2V_DataGenerator import N2V_DataGenerator\n",
    "from csbdeep.io import save_tiff_imagej_compatible\n",
    "\n",
    "# ------- Common variable to all ZeroCostDL4Mic notebooks -------\n",
    "import numpy as np\n",
    "from matplotlib import pyplot as plt\n",
    "import urllib\n",
    "import os, random\n",
    "import shutil \n",
    "import zipfile\n",
    "from tifffile import imread, imsave\n",
    "import time\n",
    "import sys\n",
    "import wget\n",
    "from pathlib import Path\n",
    "import pandas as pd\n",
    "import csv\n",
    "from glob import glob\n",
    "from scipy import signal\n",
    "from scipy import ndimage\n",
    "from skimage import io\n",
    "from sklearn.linear_model import LinearRegression\n",
    "from skimage.util import img_as_uint\n",
    "import matplotlib as mpl\n",
    "from skimage.metrics import structural_similarity\n",
    "from skimage.metrics import peak_signal_noise_ratio as psnr\n",
    "from astropy.visualization import simple_norm\n",
    "from skimage import img_as_float32\n",
    "from fpdf import FPDF, HTMLMixin\n",
    "from datetime import datetime\n",
    "from pip._internal.operations.freeze import freeze\n",
    "import subprocess\n",
    "from datetime import datetime\n",
    "\n",
    "# Colors for the warning messages\n",
    "class bcolors:\n",
    "  WARNING = '\\033[31m'\n",
    "W  = '\\033[0m'  # white (normal)\n",
    "R  = '\\033[31m' # red\n",
    "\n",
    "#Disable some of the tensorflow warnings\n",
    "import warnings\n",
    "warnings.filterwarnings(\"ignore\")\n",
    "\n",
    "print(\"Libraries installed\")\n",
    "\n",
    "\n",
    "# Check if this is the latest version of the notebook\n",
    "Latest_notebook_version = pd.read_csv(\"https://raw.githubusercontent.com/HenriquesLab/ZeroCostDL4Mic/master/Colab_notebooks/Latest_ZeroCostDL4Mic_Release.csv\")\n",
    "print('Notebook version: '+Notebook_version[0])\n",
    "strlist = Notebook_version[0].split('.')\n",
    "Notebook_version_main = strlist[0]+'.'+strlist[1]\n",
    "if Notebook_version_main == Latest_notebook_version.columns:\n",
    "  print(\"This notebook is up-to-date.\")\n",
    "else:\n",
    "  print(bcolors.WARNING +\"A new version of this notebook has been released. We recommend that you download it at https://github.com/HenriquesLab/ZeroCostDL4Mic/wiki\")\n"
   ]
  }
 ]
}