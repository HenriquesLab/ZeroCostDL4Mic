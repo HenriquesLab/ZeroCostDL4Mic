{
 "cells": [
  {
   "cell_type": "markdown",
   "metadata": {},
   "source": [
    "# ZeroCost manifest update\n",
    "replace legacy id with bmz id\n",
    "\n",
    "add license to datasets"
   ]
  },
  {
   "cell_type": "markdown",
   "metadata": {},
   "source": [
    "## Add License to datasets"
   ]
  },
  {
   "cell_type": "code",
   "execution_count": null,
   "metadata": {},
   "outputs": [],
   "source": [
    "from ruyaml import YAML\n",
    "from pathlib import Path\n",
    "from bioimageio.core import load_description\n",
    "\n",
    "# Load the YAML file\n",
    "manifest_path = Path('../manifest.bioimage.io.yaml')\n",
    "\n",
    "with open(manifest_path, 'r', encoding='utf8') as f:\n",
    "        yaml = YAML()\n",
    "        yaml.preserve_quotes = True\n",
    "        manifest = yaml.load(f)\n",
    "\n",
    "# Update the manifest file with the correct bioimage.io id and add license to datasets\n",
    "for element in manifest['collection']:\n",
    "    \n",
    "    # Add license to datasets\n",
    "    if element['type'] == 'dataset':\n",
    "        try:\n",
    "            element['license']\n",
    "        except:\n",
    "            element['license'] = 'CC-BY-4.0'\n",
    "\n",
    "\n",
    "# Save the modified YAML data back to the file\n",
    "with open(manifest_path, 'w', encoding='utf8') as f:\n",
    "        yaml = YAML()\n",
    "        yaml.preserve_quotes = True\n",
    "        yaml.default_flow_style = False\n",
    "        yaml.indent(mapping=2, sequence=4, offset=2)\n",
    "        yaml.width = 10e10\n",
    "        yaml.dump(manifest, f)"
   ]
  },
  {
   "cell_type": "markdown",
   "metadata": {},
   "source": [
    "## Convert legacy ID to new bioimage model zoo ID"
   ]
  },
  {
   "cell_type": "code",
   "execution_count": null,
   "metadata": {},
   "outputs": [],
   "source": [
    "from ruyaml import YAML\n",
    "from pathlib import Path\n",
    "from bioimageio.core import load_description\n",
    "\n",
    "# Load the YAML file\n",
    "manifest_path = Path('../manifest.bioimage.io.yaml')\n",
    "\n",
    "with open(manifest_path, 'r', encoding='utf8') as f:\n",
    "        yaml = YAML()\n",
    "        yaml.preserve_quotes = True\n",
    "        manifest = yaml.load(f)\n",
    "\n",
    "\n",
    "# Update the manifest file with the correct bioimage.io id and add license to datasets\n",
    "for element in manifest['collection']:\n",
    "    \n",
    "    # Get the bioimage.io id from the app RDF file and update the manifest file\n",
    "    try:\n",
    "        app_rdf = load_description('zero/' + element['id'])\n",
    "        app_bmz_id = app_rdf.config['bioimageio']['nickname']\n",
    "        element['id'] = app_bmz_id\n",
    "    except:\n",
    "        pass\n",
    "\n",
    "    # Update the links in the manifest file\n",
    "    if 'links' in element:\n",
    "        links=[]\n",
    "        for link in element['links']:\n",
    "            if link == 'Notebook Preview':\n",
    "                continue\n",
    "            link_rdf = load_description( 'zero/' + link )\n",
    "            link_bmz_id = link_rdf.config['bioimageio']['nickname']\n",
    "            links.append(link_bmz_id)\n",
    "        element['links'] = links\n",
    "\n",
    "\n",
    "# Save the modified YAML data back to the file\n",
    "with open(manifest_path, 'w', encoding='utf8') as f:\n",
    "        yaml = YAML()\n",
    "        yaml.preserve_quotes = True\n",
    "        yaml.default_flow_style = False\n",
    "        yaml.indent(mapping=2, sequence=4, offset=2)\n",
    "        yaml.width = 10e10\n",
    "        yaml.dump(manifest, f)"
   ]
  }
 ],
 "metadata": {
  "kernelspec": {
   "display_name": "zc_manifest_update",
   "language": "python",
   "name": "python3"
  },
  "language_info": {
   "codemirror_mode": {
    "name": "ipython",
    "version": 3
   },
   "file_extension": ".py",
   "mimetype": "text/x-python",
   "name": "python",
   "nbconvert_exporter": "python",
   "pygments_lexer": "ipython3",
   "version": "3.13.2"
  }
 },
 "nbformat": 4,
 "nbformat_minor": 2
}
